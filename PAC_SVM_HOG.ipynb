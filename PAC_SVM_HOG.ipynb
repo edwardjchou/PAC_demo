{
 "cells": [
  {
   "cell_type": "code",
   "execution_count": 19,
   "metadata": {},
   "outputs": [],
   "source": [
    "import numpy as np\n",
    "from sklearn import datasets, linear_model\n",
    "from sklearn.metrics import mean_absolute_error, mean_squared_error, r2_score\n",
    "\n",
    "import numpy as np\n",
    "import tensorflow as tf\n",
    "import csv\n",
    "\n",
    "from matplotlib.image import imread\n",
    "import matplotlib.pyplot as plt\n",
    "from sklearn import svm, metrics\n"
   ]
  },
  {
   "cell_type": "code",
   "execution_count": 10,
   "metadata": {},
   "outputs": [],
   "source": [
    "import csv\n",
    "\n",
    "with open(\"pac_transform_guide.csv\") as csv_file:\n",
    "    reader = csv.reader(csv_file)\n",
    "    i = 0\n",
    "    image_paths = []\n",
    "    im_labels = []\n",
    "    \n",
    "    for ind, row in enumerate(reader):\n",
    "        index = row[0]\n",
    "        filename = row[1]\n",
    "        label = row[2]\n",
    "        image_paths.append(filename)\n",
    "        im_labels.append(label)"
   ]
  },
  {
   "cell_type": "code",
   "execution_count": 23,
   "metadata": {},
   "outputs": [],
   "source": [
    "files = ['08', '11', '15']\n"
   ]
  },
  {
   "cell_type": "code",
   "execution_count": 37,
   "metadata": {},
   "outputs": [
    {
     "name": "stdout",
     "output_type": "stream",
     "text": [
      "(1980,)\n",
      "(660,)\n",
      "(2640, 200)\n",
      "ratio: 8.213953488372093\n",
      "Classification report:\n",
      "             precision    recall  f1-score   support\n",
      "\n",
      "          0       0.90      1.00      0.95       594\n",
      "          1       0.00      0.00      0.00        66\n",
      "\n",
      "avg / total       0.81      0.90      0.85       660\n",
      "\n",
      "\n",
      "Confusion matrix:\n",
      "[[594   0]\n",
      " [ 66   0]]\n"
     ]
    },
    {
     "name": "stderr",
     "output_type": "stream",
     "text": [
      "/Users/Edward_Chou/anaconda3/lib/python3.6/site-packages/sklearn/metrics/classification.py:1135: UndefinedMetricWarning: Precision and F-score are ill-defined and being set to 0.0 in labels with no predicted samples.\n",
      "  'precision', 'predicted', average, warn_for)\n"
     ]
    }
   ],
   "source": [
    "file = files[0]\n",
    "\n",
    "train_indices = np.load(\"pac_augment_arrays/ocean_train_inds_\" + str(file) + \".npy\")\n",
    "test_indices = np.load(\"pac_augment_arrays/ocean_test_inds_\" + str(file) + \".npy\")\n",
    "\n",
    "data_hog_features = np.load(\"pac_hog_features_\" + str(file) + \".npy\")\n",
    "print(train_indices.shape)\n",
    "print(test_indices.shape)\n",
    "print(data_hog_features.shape)\n",
    "\n",
    "train_len = len(train_indices)\n",
    "test_len = len(test_indices)\n",
    "features_train = data_hog_features[:train_len]\n",
    "features_test = data_hog_features[train_len:train_len+test_len]\n",
    "labels = np.array(im_labels)\n",
    "labels_train = labels[train_indices]\n",
    "labels_test = labels[test_indices]\n",
    "\n",
    "num_0 = 0\n",
    "num_1 = 1\n",
    "for i in labels_train:\n",
    "    if i == '0':\n",
    "        num_0 += 1\n",
    "    if i == '1':\n",
    "        num_1 += 1\n",
    "ratio = num_0 / num_1\n",
    "print('ratio: ' + str(ratio))\n",
    "\n",
    "class_weight = {'0' : 1.,\n",
    "    '1': ratio}\n",
    "\n",
    "classifier = svm.SVC(gamma=0.001, class_weight = class_weight)\n",
    "\n",
    "classifier.fit(features_train, labels_train)\n",
    "\n",
    "predictions = classifier.predict(features_test)\n",
    "\n",
    "print(\"Classification report:\\n%s\\n\"\n",
    "      % (metrics.classification_report(labels_test, predictions)))\n",
    "print(\"Confusion matrix:\\n%s\" % metrics.confusion_matrix(labels_test, predictions))"
   ]
  },
  {
   "cell_type": "code",
   "execution_count": 34,
   "metadata": {},
   "outputs": [
    {
     "name": "stdout",
     "output_type": "stream",
     "text": [
      "(1980,)\n",
      "(660,)\n",
      "(2640, 200)\n",
      "ratio: 19.214285714285715\n",
      "Classification report:\n",
      "             precision    recall  f1-score   support\n",
      "\n",
      "          0       0.96      1.00      0.98       635\n",
      "          1       0.00      0.00      0.00        25\n",
      "\n",
      "avg / total       0.93      0.96      0.94       660\n",
      "\n",
      "\n",
      "Confusion matrix:\n",
      "[[635   0]\n",
      " [ 25   0]]\n"
     ]
    },
    {
     "name": "stderr",
     "output_type": "stream",
     "text": [
      "/Users/Edward_Chou/anaconda3/lib/python3.6/site-packages/sklearn/metrics/classification.py:1135: UndefinedMetricWarning: Precision and F-score are ill-defined and being set to 0.0 in labels with no predicted samples.\n",
      "  'precision', 'predicted', average, warn_for)\n"
     ]
    }
   ],
   "source": [
    "file = files[1]\n",
    "\n",
    "train_indices = np.load(\"pac_augment_arrays/ocean_train_inds_\" + str(file) + \".npy\")\n",
    "test_indices = np.load(\"pac_augment_arrays/ocean_test_inds_\" + str(file) + \".npy\")\n",
    "\n",
    "data_hog_features = np.load(\"pac_hog_features_\" + str(file) + \".npy\")\n",
    "print(train_indices.shape)\n",
    "print(test_indices.shape)\n",
    "print(data_hog_features.shape)\n",
    "\n",
    "train_len = len(train_indices)\n",
    "test_len = len(test_indices)\n",
    "features_train = data_hog_features[:train_len]\n",
    "features_test = data_hog_features[train_len:train_len+test_len]\n",
    "labels = np.array(im_labels)\n",
    "labels_train = labels[train_indices]\n",
    "labels_test = labels[test_indices]\n",
    "\n",
    "\n",
    "num_0 = 0\n",
    "num_1 = 1\n",
    "for i in labels_train:\n",
    "    if i == '0':\n",
    "        num_0 += 1\n",
    "    if i == '1':\n",
    "        num_1 += 1\n",
    "ratio = num_0 / num_1\n",
    "print('ratio: ' + str(ratio))\n",
    "\n",
    "class_weight = {'0' : 1.,\n",
    "    '1': ratio}\n",
    "\n",
    "classifier = svm.SVC(gamma=0.001, class_weight = class_weight)\n",
    "classifier.fit(features_train, labels_train)\n",
    "\n",
    "predictions = classifier.predict(features_test)\n",
    "\n",
    "print(\"Classification report:\\n%s\\n\"\n",
    "      % (metrics.classification_report(labels_test, predictions)))\n",
    "print(\"Confusion matrix:\\n%s\" % metrics.confusion_matrix(labels_test, predictions))"
   ]
  },
  {
   "cell_type": "code",
   "execution_count": 35,
   "metadata": {},
   "outputs": [
    {
     "name": "stdout",
     "output_type": "stream",
     "text": [
      "(1980,)\n",
      "(660,)\n",
      "(2640, 200)\n",
      "ratio: 395.2\n",
      "Classification report:\n",
      "             precision    recall  f1-score   support\n",
      "\n",
      "          0       1.00      1.00      1.00       657\n",
      "          1       0.00      0.00      0.00         3\n",
      "\n",
      "avg / total       0.99      1.00      0.99       660\n",
      "\n",
      "\n",
      "Confusion matrix:\n",
      "[[657   0]\n",
      " [  3   0]]\n"
     ]
    },
    {
     "name": "stderr",
     "output_type": "stream",
     "text": [
      "/Users/Edward_Chou/anaconda3/lib/python3.6/site-packages/sklearn/metrics/classification.py:1135: UndefinedMetricWarning: Precision and F-score are ill-defined and being set to 0.0 in labels with no predicted samples.\n",
      "  'precision', 'predicted', average, warn_for)\n"
     ]
    }
   ],
   "source": [
    "file = files[2]\n",
    "\n",
    "train_indices = np.load(\"pac_augment_arrays/ocean_train_inds_\" + str(file) + \".npy\")\n",
    "test_indices = np.load(\"pac_augment_arrays/ocean_test_inds_\" + str(file) + \".npy\")\n",
    "\n",
    "data_hog_features = np.load(\"pac_hog_features_\" + str(file) + \".npy\")\n",
    "print(train_indices.shape)\n",
    "print(test_indices.shape)\n",
    "print(data_hog_features.shape)\n",
    "\n",
    "train_len = len(train_indices)\n",
    "test_len = len(test_indices)\n",
    "features_train = data_hog_features[:train_len]\n",
    "features_test = data_hog_features[train_len:train_len+test_len]\n",
    "labels = np.array(im_labels)\n",
    "labels_train = labels[train_indices]\n",
    "labels_test = labels[test_indices]\n",
    "\n",
    "\n",
    "num_0 = 0\n",
    "num_1 = 1\n",
    "for i in labels_train:\n",
    "    if i == '0':\n",
    "        num_0 += 1\n",
    "    if i == '1':\n",
    "        num_1 += 1\n",
    "ratio = num_0 / num_1\n",
    "print('ratio: ' + str(ratio))\n",
    "\n",
    "class_weight = {'0' : 1.,\n",
    "    '1': ratio}\n",
    "\n",
    "classifier = svm.SVC(gamma=0.001, class_weight = class_weight)\n",
    "classifier.fit(features_train, labels_train)\n",
    "\n",
    "predictions = classifier.predict(features_test)\n",
    "\n",
    "print(\"Classification report:\\n%s\\n\"\n",
    "      % (metrics.classification_report(labels_test, predictions)))\n",
    "print(\"Confusion matrix:\\n%s\" % metrics.confusion_matrix(labels_test, predictions))"
   ]
  },
  {
   "cell_type": "code",
   "execution_count": null,
   "metadata": {},
   "outputs": [],
   "source": []
  }
 ],
 "metadata": {
  "kernelspec": {
   "display_name": "Python 3",
   "language": "python",
   "name": "python3"
  },
  "language_info": {
   "codemirror_mode": {
    "name": "ipython",
    "version": 3
   },
   "file_extension": ".py",
   "mimetype": "text/x-python",
   "name": "python",
   "nbconvert_exporter": "python",
   "pygments_lexer": "ipython3",
   "version": "3.6.3"
  }
 },
 "nbformat": 4,
 "nbformat_minor": 2
}
