{
 "cells": [
  {
   "cell_type": "code",
   "execution_count": 1,
   "metadata": {},
   "outputs": [
    {
     "name": "stderr",
     "output_type": "stream",
     "text": [
      "Using TensorFlow backend.\n"
     ]
    }
   ],
   "source": [
    "import csv\n",
    "import math\n",
    "\n",
    "import matplotlib.pyplot as plt\n",
    "import numpy as np\n",
    "\n",
    "from keras.models import load_model\n",
    "import cv2\n",
    "from skimage.transform import resize\n",
    "from keras.preprocessing import image\n",
    "\n",
    "\n"
   ]
  },
  {
   "cell_type": "code",
   "execution_count": 2,
   "metadata": {
    "collapsed": true
   },
   "outputs": [],
   "source": [
    "import csv\n",
    "\n",
    "with open(\"pac_transform_guide.csv\") as file:\n",
    "    reader = csv.reader(file)\n",
    "    i = 0\n",
    "    image_paths = []\n",
    "    sanitation_labels = []\n",
    "    \n",
    "    for ind, row in enumerate(reader):\n",
    "        index = row[0]\n",
    "        filename = row[1]\n",
    "        label = row[2]\n",
    "        image_paths.append(filename)\n",
    "        sanitation_labels.append(label)"
   ]
  },
  {
   "cell_type": "code",
   "execution_count": 3,
   "metadata": {},
   "outputs": [],
   "source": [
    "camera_num = '08'\n",
    "\n",
    "new_model = load_model('/pac_models/pca_augment_camera_' + camera_num + '.hdf5')\n",
    "test_indices = np.load('pac_augment_arrays/ocean_train_inds_' + camera_num + '.npy')\n",
    "\n",
    "true_label = []\n",
    "predicted_label = []\n",
    "for index in test_indices:\n",
    "    sanit_label = sanitation_labels[index]\n",
    "    true_label.append(str(sanit_label))\n",
    "    \n",
    "    #data = np.load(image_paths[int(index)])\n",
    "    #depth_map = data['x'].astype(np.float32)\n",
    "    #orig_img, ocean = depth_map_to_image(depth_map)\n",
    "    #img = resize(ocean, (224, 224), mode='constant')\n",
    "    path =  image_paths[index]\n",
    "    img = image.load_img(path, target_size=(224, 224))\n",
    "    data = np.expand_dims(image.img_to_array(img), axis=0)\n",
    "    \n",
    "    # Prediction outputs softmax vector\n",
    "    prediction = new_model.predict(data)\n",
    "    \n",
    "    # Set most confident prediction as label, and convert it to our price scale\n",
    "    label = np.argmax(prediction)\n",
    "    #print(label)\n",
    "    if label == 0:  \n",
    "        predicted_label.append('0')\n",
    "    if label == 1:  \n",
    "        predicted_label.append('1')"
   ]
  },
  {
   "cell_type": "code",
   "execution_count": 4,
   "metadata": {},
   "outputs": [
    {
     "name": "stdout",
     "output_type": "stream",
     "text": [
      "Classification report:\n",
      "             precision    recall  f1-score   support\n",
      "\n",
      "          0       1.00      0.98      0.99      1766\n",
      "          1       0.89      0.98      0.93       214\n",
      "\n",
      "avg / total       0.99      0.98      0.98      1980\n",
      "\n",
      "\n",
      "Confusion matrix:\n",
      "[[1739   27]\n",
      " [   4  210]]\n"
     ]
    }
   ],
   "source": [
    "from sklearn.metrics import confusion_matrix, classification_report\n",
    "print(\"Classification report:\\n%s\\n\"\n",
    "      % (classification_report(true_label, predicted_label)))\n",
    "print(\"Confusion matrix:\\n%s\" % confusion_matrix(true_label, predicted_label))"
   ]
  },
  {
   "cell_type": "code",
   "execution_count": 5,
   "metadata": {
    "collapsed": true
   },
   "outputs": [],
   "source": [
    "camera_num = '11'\n",
    "\n",
    "new_model = load_model('/pac_models/pca_augment_camera_' + camera_num + '.hdf5')\n",
    "test_indices = np.load('pac_augment_arrays/ocean_train_inds_' + camera_num + '.npy')\n",
    "\n",
    "true_label = []\n",
    "predicted_label = []\n",
    "for index in test_indices:\n",
    "    sanit_label = sanitation_labels[index]\n",
    "    true_label.append(str(sanit_label))\n",
    "    \n",
    "    #data = np.load(image_paths[int(index)])\n",
    "    #depth_map = data['x'].astype(np.float32)\n",
    "    #orig_img, ocean = depth_map_to_image(depth_map)\n",
    "    #img = resize(ocean, (224, 224), mode='constant')\n",
    "    path =  image_paths[index]\n",
    "    img = image.load_img(path, target_size=(224, 224))\n",
    "    data = np.expand_dims(image.img_to_array(img), axis=0)\n",
    "    \n",
    "    # Prediction outputs softmax vector\n",
    "    prediction = new_model.predict(data)\n",
    "    \n",
    "    # Set most confident prediction as label, and convert it to our price scale\n",
    "    label = np.argmax(prediction)\n",
    "    #print(label)\n",
    "    if label == 0:  \n",
    "        predicted_label.append('0')\n",
    "    if label == 1:  \n",
    "        predicted_label.append('1')"
   ]
  },
  {
   "cell_type": "code",
   "execution_count": 6,
   "metadata": {},
   "outputs": [
    {
     "name": "stdout",
     "output_type": "stream",
     "text": [
      "Classification report:\n",
      "             precision    recall  f1-score   support\n",
      "\n",
      "          0       1.00      0.98      0.99      1883\n",
      "          1       0.67      0.97      0.79        97\n",
      "\n",
      "avg / total       0.98      0.98      0.98      1980\n",
      "\n",
      "\n",
      "Confusion matrix:\n",
      "[[1837   46]\n",
      " [   3   94]]\n"
     ]
    }
   ],
   "source": [
    "from sklearn.metrics import confusion_matrix, classification_report\n",
    "print(\"Classification report:\\n%s\\n\"\n",
    "      % (classification_report(true_label, predicted_label)))\n",
    "print(\"Confusion matrix:\\n%s\" % confusion_matrix(true_label, predicted_label))"
   ]
  },
  {
   "cell_type": "code",
   "execution_count": 7,
   "metadata": {
    "collapsed": true
   },
   "outputs": [],
   "source": [
    "camera_num = '15'\n",
    "\n",
    "new_model = load_model('/pac_models/pca_augment_camera_' + camera_num + '.hdf5')\n",
    "test_indices = np.load('pac_augment_arrays/ocean_train_inds_' + camera_num + '.npy')\n",
    "\n",
    "true_label = []\n",
    "predicted_label = []\n",
    "for index in test_indices:\n",
    "    sanit_label = sanitation_labels[index]\n",
    "    true_label.append(str(sanit_label))\n",
    "    \n",
    "    #data = np.load(image_paths[int(index)])\n",
    "    #depth_map = data['x'].astype(np.float32)\n",
    "    #orig_img, ocean = depth_map_to_image(depth_map)\n",
    "    #img = resize(ocean, (224, 224), mode='constant')\n",
    "    path =  image_paths[index]\n",
    "    img = image.load_img(path, target_size=(224, 224))\n",
    "    data = np.expand_dims(image.img_to_array(img), axis=0)\n",
    "    \n",
    "    # Prediction outputs softmax vector\n",
    "    prediction = new_model.predict(data)\n",
    "    \n",
    "    # Set most confident prediction as label, and convert it to our price scale\n",
    "    label = np.argmax(prediction)\n",
    "    #print(label)\n",
    "    if label == 0:  \n",
    "        predicted_label.append('0')\n",
    "    if label == 1:  \n",
    "        predicted_label.append('1')"
   ]
  },
  {
   "cell_type": "code",
   "execution_count": 8,
   "metadata": {},
   "outputs": [
    {
     "name": "stdout",
     "output_type": "stream",
     "text": [
      "Classification report:\n",
      "             precision    recall  f1-score   support\n",
      "\n",
      "          0       1.00      1.00      1.00      1976\n",
      "          1       1.00      0.25      0.40         4\n",
      "\n",
      "avg / total       1.00      1.00      1.00      1980\n",
      "\n",
      "\n",
      "Confusion matrix:\n",
      "[[1976    0]\n",
      " [   3    1]]\n"
     ]
    }
   ],
   "source": [
    "from sklearn.metrics import confusion_matrix, classification_report\n",
    "print(\"Classification report:\\n%s\\n\"\n",
    "      % (classification_report(true_label, predicted_label)))\n",
    "print(\"Confusion matrix:\\n%s\" % confusion_matrix(true_label, predicted_label))"
   ]
  },
  {
   "cell_type": "code",
   "execution_count": null,
   "metadata": {
    "collapsed": true
   },
   "outputs": [],
   "source": []
  }
 ],
 "metadata": {
  "kernelspec": {
   "display_name": "Python 3",
   "language": "python",
   "name": "python3"
  },
  "language_info": {
   "codemirror_mode": {
    "name": "ipython",
    "version": 3
   },
   "file_extension": ".py",
   "mimetype": "text/x-python",
   "name": "python",
   "nbconvert_exporter": "python",
   "pygments_lexer": "ipython3",
   "version": "3.6.3"
  }
 },
 "nbformat": 4,
 "nbformat_minor": 2
}
