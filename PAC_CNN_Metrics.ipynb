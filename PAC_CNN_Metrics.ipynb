{
 "cells": [
  {
   "cell_type": "code",
   "execution_count": 1,
   "metadata": {},
   "outputs": [
    {
     "name": "stderr",
     "output_type": "stream",
     "text": [
      "Using TensorFlow backend.\n"
     ]
    }
   ],
   "source": [
    "import csv\n",
    "import math\n",
    "\n",
    "import matplotlib.pyplot as plt\n",
    "import numpy as np\n",
    "\n",
    "from keras.models import load_model\n",
    "import cv2\n",
    "from skimage.transform import resize\n",
    "from keras.preprocessing import image\n",
    "\n",
    "\n"
   ]
  },
  {
   "cell_type": "code",
   "execution_count": 2,
   "metadata": {
    "collapsed": true
   },
   "outputs": [],
   "source": [
    "with open(\"pac_guide.csv\") as file:\n",
    "    reader = csv.reader(file)\n",
    "    i = 0\n",
    "    image_paths = []\n",
    "    camera_nums = []\n",
    "    sanitation_labels = []\n",
    "    \n",
    "    for row in reader:\n",
    "        index = row[0]\n",
    "        camera_num = row[1]\n",
    "        label = row[2]\n",
    "        filename = row[3]\n",
    "        image_paths.append(filename)\n",
    "        #camera_nums.append(camera_num)\n",
    "        sanitation_labels.append(label)"
   ]
  },
  {
   "cell_type": "code",
   "execution_count": 3,
   "metadata": {
    "collapsed": true
   },
   "outputs": [],
   "source": [
    "def depth_map_to_image(depth_map):\n",
    "    img = cv2.normalize(depth_map, depth_map, 0, 1, cv2.NORM_MINMAX)\n",
    "    img = np.array(img * 255, dtype=np.uint8)\n",
    "    orig_img = img\n",
    "    img = cv2.cvtColor(img, cv2.COLOR_GRAY2RGB)\n",
    "    img = cv2.applyColorMap(img, cv2.COLORMAP_OCEAN)\n",
    "    #img = resize(img, 224, 224)\n",
    "\n",
    "    return orig_img, img"
   ]
  },
  {
   "cell_type": "code",
   "execution_count": 12,
   "metadata": {},
   "outputs": [],
   "source": [
    "camera_num = '08'\n",
    "\n",
    "new_model = load_model('/pac_models/pca_camera_' + camera_num + '.hdf5')\n",
    "test_indices = np.load('pac_arrays/train_' + camera_num + '.npy')\n",
    "\n",
    "true_label = []\n",
    "predicted_label = []\n",
    "for index in test_indices:\n",
    "    sanit_label = sanitation_labels[index]\n",
    "    true_label.append(str(sanit_label))\n",
    "    \n",
    "    data = np.load(image_paths[int(index)])\n",
    "    depth_map = data['x'].astype(np.float32)\n",
    "    orig_img, ocean = depth_map_to_image(depth_map)\n",
    "    img = resize(ocean, (224, 224), mode='constant')\n",
    "    #img = image.load_img(path, target_size=(224, 224))\n",
    "    data = np.expand_dims(image.img_to_array(img), axis=0)\n",
    "    \n",
    "    # Prediction outputs softmax vector\n",
    "    prediction = new_model.predict(data)\n",
    "    \n",
    "    # Set most confident prediction as label, and convert it to our price scale\n",
    "    label = np.argmax(prediction)\n",
    "    #print(label)\n",
    "    if label == 0:  \n",
    "        predicted_label.append('0')\n",
    "    if label == 1:  \n",
    "        predicted_label.append('1')"
   ]
  },
  {
   "cell_type": "code",
   "execution_count": 13,
   "metadata": {},
   "outputs": [
    {
     "name": "stdout",
     "output_type": "stream",
     "text": [
      "Classification report:\n",
      "             precision    recall  f1-score   support\n",
      "\n",
      "          0       0.89      1.00      0.94      1766\n",
      "          1       0.00      0.00      0.00       214\n",
      "\n",
      "avg / total       0.80      0.89      0.84      1980\n",
      "\n",
      "\n",
      "Confusion matrix:\n",
      "[[1766    0]\n",
      " [ 214    0]]\n"
     ]
    },
    {
     "name": "stderr",
     "output_type": "stream",
     "text": [
      "/usr/local/lib/python3.5/site-packages/sklearn/metrics/classification.py:1113: UndefinedMetricWarning: Precision and F-score are ill-defined and being set to 0.0 in labels with no predicted samples.\n",
      "  'precision', 'predicted', average, warn_for)\n"
     ]
    }
   ],
   "source": [
    "from sklearn.metrics import confusion_matrix, classification_report\n",
    "print(\"Classification report:\\n%s\\n\"\n",
    "      % (classification_report(true_label, predicted_label)))\n",
    "print(\"Confusion matrix:\\n%s\" % confusion_matrix(true_label, predicted_label))"
   ]
  },
  {
   "cell_type": "code",
   "execution_count": 14,
   "metadata": {},
   "outputs": [],
   "source": [
    "camera_num = '11'\n",
    "\n",
    "new_model = load_model('/pac_models/pca_camera_' + camera_num + '.hdf5')\n",
    "test_indices = np.load('pac_arrays/train_' + camera_num + '.npy')\n",
    "\n",
    "true_label = []\n",
    "predicted_label = []\n",
    "for index in test_indices:\n",
    "    sanit_label = sanitation_labels[index]\n",
    "    true_label.append(str(sanit_label))\n",
    "    \n",
    "    data = np.load(image_paths[int(index)])\n",
    "    depth_map = data['x'].astype(np.float32)\n",
    "    orig_img, ocean = depth_map_to_image(depth_map)\n",
    "    img = resize(ocean, (224, 224), mode='constant')\n",
    "    #img = image.load_img(path, target_size=(224, 224))\n",
    "    data = np.expand_dims(image.img_to_array(img), axis=0)\n",
    "    \n",
    "    # Prediction outputs softmax vector\n",
    "    prediction = new_model.predict(data)\n",
    "    \n",
    "    # Set most confident prediction as label, and convert it to our price scale\n",
    "    label = np.argmax(prediction)\n",
    "    #print(label)\n",
    "    if label == 0:  \n",
    "        predicted_label.append('0')\n",
    "    if label == 1:  \n",
    "        predicted_label.append('1')"
   ]
  },
  {
   "cell_type": "code",
   "execution_count": 15,
   "metadata": {},
   "outputs": [
    {
     "name": "stdout",
     "output_type": "stream",
     "text": [
      "Classification report:\n",
      "             precision    recall  f1-score   support\n",
      "\n",
      "          0       0.95      1.00      0.97      1883\n",
      "          1       0.00      0.00      0.00        97\n",
      "\n",
      "avg / total       0.90      0.95      0.93      1980\n",
      "\n",
      "\n",
      "Confusion matrix:\n",
      "[[1883    0]\n",
      " [  97    0]]\n"
     ]
    },
    {
     "name": "stderr",
     "output_type": "stream",
     "text": [
      "/usr/local/lib/python3.5/site-packages/sklearn/metrics/classification.py:1113: UndefinedMetricWarning: Precision and F-score are ill-defined and being set to 0.0 in labels with no predicted samples.\n",
      "  'precision', 'predicted', average, warn_for)\n"
     ]
    }
   ],
   "source": [
    "from sklearn.metrics import confusion_matrix, classification_report\n",
    "print(\"Classification report:\\n%s\\n\"\n",
    "      % (classification_report(true_label, predicted_label)))\n",
    "print(\"Confusion matrix:\\n%s\" % confusion_matrix(true_label, predicted_label))"
   ]
  },
  {
   "cell_type": "code",
   "execution_count": 16,
   "metadata": {
    "collapsed": true
   },
   "outputs": [],
   "source": [
    "camera_num = '15'\n",
    "\n",
    "new_model = load_model('/pac_models/pca_camera_' + camera_num + '.hdf5')\n",
    "test_indices = np.load('pac_arrays/train_' + camera_num + '.npy')\n",
    "\n",
    "true_label = []\n",
    "predicted_label = []\n",
    "for index in test_indices:\n",
    "    sanit_label = sanitation_labels[index]\n",
    "    true_label.append(str(sanit_label))\n",
    "    \n",
    "    data = np.load(image_paths[int(index)])\n",
    "    depth_map = data['x'].astype(np.float32)\n",
    "    orig_img, ocean = depth_map_to_image(depth_map)\n",
    "    img = resize(ocean, (224, 224), mode='constant')\n",
    "    #img = image.load_img(path, target_size=(224, 224))\n",
    "    data = np.expand_dims(image.img_to_array(img), axis=0)\n",
    "    \n",
    "    # Prediction outputs softmax vector\n",
    "    prediction = new_model.predict(data)\n",
    "    \n",
    "    # Set most confident prediction as label, and convert it to our price scale\n",
    "    label = np.argmax(prediction)\n",
    "    #print(label)\n",
    "    if label == 0:  \n",
    "        predicted_label.append('0')\n",
    "    if label == 1:  \n",
    "        predicted_label.append('1')"
   ]
  },
  {
   "cell_type": "code",
   "execution_count": 17,
   "metadata": {},
   "outputs": [
    {
     "name": "stdout",
     "output_type": "stream",
     "text": [
      "Classification report:\n",
      "             precision    recall  f1-score   support\n",
      "\n",
      "          0       1.00      1.00      1.00      1976\n",
      "          1       0.00      0.00      0.00         4\n",
      "\n",
      "avg / total       1.00      1.00      1.00      1980\n",
      "\n",
      "\n",
      "Confusion matrix:\n",
      "[[1976    0]\n",
      " [   4    0]]\n"
     ]
    },
    {
     "name": "stderr",
     "output_type": "stream",
     "text": [
      "/usr/local/lib/python3.5/site-packages/sklearn/metrics/classification.py:1113: UndefinedMetricWarning: Precision and F-score are ill-defined and being set to 0.0 in labels with no predicted samples.\n",
      "  'precision', 'predicted', average, warn_for)\n"
     ]
    }
   ],
   "source": [
    "from sklearn.metrics import confusion_matrix, classification_report\n",
    "print(\"Classification report:\\n%s\\n\"\n",
    "      % (classification_report(true_label, predicted_label)))\n",
    "print(\"Confusion matrix:\\n%s\" % confusion_matrix(true_label, predicted_label))"
   ]
  },
  {
   "cell_type": "code",
   "execution_count": null,
   "metadata": {
    "collapsed": true
   },
   "outputs": [],
   "source": []
  }
 ],
 "metadata": {
  "kernelspec": {
   "display_name": "Python 3",
   "language": "python",
   "name": "python3"
  },
  "language_info": {
   "codemirror_mode": {
    "name": "ipython",
    "version": 3
   },
   "file_extension": ".py",
   "mimetype": "text/x-python",
   "name": "python",
   "nbconvert_exporter": "python",
   "pygments_lexer": "ipython3",
   "version": "3.6.3"
  }
 },
 "nbformat": 4,
 "nbformat_minor": 2
}
