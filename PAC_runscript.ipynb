{
 "cells": [
  {
   "cell_type": "code",
   "execution_count": 1,
   "metadata": {},
   "outputs": [
    {
     "name": "stderr",
     "output_type": "stream",
     "text": [
      "Using TensorFlow backend.\n"
     ]
    }
   ],
   "source": [
    "import csv\n",
    "import math\n",
    "\n",
    "import matplotlib.pyplot as plt\n",
    "import numpy as np\n",
    "\n",
    "from keras.models import load_model\n",
    "import cv2\n",
    "from skimage.transform import resize\n",
    "from keras.preprocessing import image\n",
    "\n",
    "\n"
   ]
  },
  {
   "cell_type": "code",
   "execution_count": 2,
   "metadata": {},
   "outputs": [],
   "source": [
    "def depth_map_to_image(depth_map):\n",
    "    img = cv2.normalize(depth_map, depth_map, 0, 1, cv2.NORM_MINMAX)\n",
    "    img = np.array(img * 255, dtype=np.uint8)\n",
    "    orig_img = img\n",
    "    img = cv2.cvtColor(img, cv2.COLOR_GRAY2RGB)\n",
    "    img = cv2.applyColorMap(img, cv2.COLORMAP_OCEAN)\n",
    "    #img = resize(img, 224, 224)\n",
    "\n",
    "    return orig_img, img"
   ]
  },
  {
   "cell_type": "code",
   "execution_count": 5,
   "metadata": {},
   "outputs": [
    {
     "name": "stdout",
     "output_type": "stream",
     "text": [
      "0\n"
     ]
    }
   ],
   "source": [
    "camera_num = '02'\n",
    "\n",
    "new_model = load_model('pac_models/pca_camera_' + camera_num + '.hdf5')\n",
    "\n",
    "predicted_label = []\n",
    "\n",
    "data = np.load('20160930_084735_699.npz')\n",
    "depth_map = data['x'].astype(np.float32)\n",
    "orig_img, ocean = depth_map_to_image(depth_map)\n",
    "img = resize(ocean, (224, 224), mode='constant')\n",
    "#img = image.load_img(path, target_size=(224, 224))\n",
    "data = np.expand_dims(image.img_to_array(img), axis=0)\n",
    "\n",
    "# Prediction outputs softmax vector\n",
    "prediction = new_model.predict(data)\n",
    "\n",
    "# Set most confident prediction as label, and convert it to our price scale\n",
    "label = np.argmax(prediction)\n",
    "print(label)\n",
    "if label == 0:  \n",
    "    predicted_label.append('0')\n",
    "if label == 1:  \n",
    "    predicted_label.append('1')"
   ]
  },
  {
   "cell_type": "code",
   "execution_count": 7,
   "metadata": {},
   "outputs": [
    {
     "name": "stdout",
     "output_type": "stream",
     "text": [
      "1\n"
     ]
    }
   ],
   "source": [
    "camera_num = '02'\n",
    "\n",
    "new_model = load_model('pac_models/pca_augment_camera_' + camera_num + '.hdf5')\n",
    "\n",
    "path =  '0.png'\n",
    "img = image.load_img(path, target_size=(224, 224))\n",
    "data = np.expand_dims(image.img_to_array(img), axis=0)\n",
    "\n",
    "# Prediction outputs softmax vector\n",
    "prediction = new_model.predict(data)\n",
    "\n",
    "# Set most confident prediction as label, and convert it to our price scale\n",
    "label = np.argmax(prediction)\n",
    "print(label)\n",
    "if label == 0:  \n",
    "    predicted_label.append('0')\n",
    "if label == 1:  \n",
    "    predicted_label.append('1')"
   ]
  },
  {
   "cell_type": "code",
   "execution_count": null,
   "metadata": {},
   "outputs": [],
   "source": []
  }
 ],
 "metadata": {
  "kernelspec": {
   "display_name": "Python 3",
   "language": "python",
   "name": "python3"
  },
  "language_info": {
   "codemirror_mode": {
    "name": "ipython",
    "version": 3
   },
   "file_extension": ".py",
   "mimetype": "text/x-python",
   "name": "python",
   "nbconvert_exporter": "python",
   "pygments_lexer": "ipython3",
   "version": "3.6.3"
  }
 },
 "nbformat": 4,
 "nbformat_minor": 2
}
