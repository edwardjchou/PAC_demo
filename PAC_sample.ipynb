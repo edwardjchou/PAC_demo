{
 "cells": [
  {
   "cell_type": "code",
   "execution_count": 1,
   "metadata": {},
   "outputs": [
    {
     "name": "stdout",
     "output_type": "stream",
     "text": [
      "(240, 320) float16\n"
     ]
    }
   ],
   "source": [
    "import numpy as np\n",
    "A = np.load('/pac_data/02/0/20160930_082811_796.npz')\n",
    "depth_map = A[A.files[0]]\n",
    "print(depth_map.shape, depth_map.dtype)\n"
   ]
  },
  {
   "cell_type": "code",
   "execution_count": 81,
   "metadata": {},
   "outputs": [],
   "source": [
    "home_dir = os.listdir(\"/pac_data\")\n",
    "\n",
    "sub_dirs = []\n",
    "for i, subname in enumerate(home_dir):\n",
    "    if subname.isdigit():\n",
    "        sub_dir = os.listdir(\"/pac_data/\" + subname)\n",
    "        if len(sub_dir) >= 2: \n",
    "            sub_dirs.append(subname)\n",
    "        \n",
    "np.save('sub_dirs', np.array(sub_dirs))\n"
   ]
  },
  {
   "cell_type": "code",
   "execution_count": 71,
   "metadata": {},
   "outputs": [
    {
     "name": "stdout",
     "output_type": "stream",
     "text": [
      "[   1285.    5697.    3716. ...,  110053.  111809.  111639.]\n",
      "[0, 10364, 11351, 28282, 30028, 32300, 33632, 37035, 37438, 50939, 51478, 58699, 58725, 61380, 62224, 69749, 69810, 77416, 78761, 94704, 94923, 100857, 102609, 104957, 105962, 110301, 112036]\n"
     ]
    }
   ],
   "source": [
    "import numpy as np\n",
    "import os\n",
    "\n",
    "cum = 0\n",
    "home_dir = os.listdir(\"/pac_data\")\n",
    "\n",
    "all_cums = [0]\n",
    "if len(os.listdir('pac_arrays')) == 0:\n",
    "    all_train = np.array([])\n",
    "    all_test = np.array([])\n",
    "    all_dev = np.array([])\n",
    "    for i, subname in enumerate(home_dir):\n",
    "        if subname.isdigit():\n",
    "            sub_dir = os.listdir(\"/pac_data/\" + subname)\n",
    "            if len(sub_dir) >= 2:  \n",
    "                first_cum = cum\n",
    "                for j, labname in enumerate(sub_dir):\n",
    "                    if labname.isdigit():\n",
    "                        label_dir = os.listdir(\"/pac_data/\" + subname + \"/\" + labname)\n",
    "                        start = cum\n",
    "                        end = cum + len(label_dir)\n",
    "                        #print(subname + ',' + labname + ',' + str(start) + ',' + str(end))\n",
    "                        #print(np.arange(start, end))\n",
    "                        choices = np.random.choice(np.arange(start,end), 5, replace=False)\n",
    "                        #print(choices)\n",
    "                        cum += len(label_dir)\n",
    "                        all_cums.append(cum)\n",
    "                        \n",
    "                index_array = np.arange(int(first_cum), int(cum))\n",
    "                permuted_indices = np.random.permutation(index_array)\n",
    "                choices = np.random.choice(permuted_indices, 3300, replace=False)\n",
    "                split60 = int(len(choices) * 0.6)\n",
    "                split80 = int(len(choices) * 0.8)\n",
    "                train_name = 'pac_arrays/train_' + subname\n",
    "                test_name = 'pac_arrays/test_' + subname\n",
    "                dev_name = 'pac_arrays/dev_' + subname\n",
    "                np.save(train_name, choices[:split60])\n",
    "                all_train = np.concatenate((all_train, choices[:split60]))\n",
    "                \n",
    "                np.save(test_name, choices[split60:split80])\n",
    "                all_test = np.concatenate((all_test, choices[split60:split80]))\n",
    "\n",
    "                np.save(dev_name, choices[split80:])\n",
    "                all_dev = np.concatenate((all_dev, choices[split80:]))\n",
    "\n",
    "                #print(subname + ',' + str(first_cum) + ',' + str(cum) + ',' + str(cum - first_cum))\n",
    "                \n",
    "    print(all_train)\n",
    "\n",
    "    np.save('pac_arrays/train_all', np.random.permutation(all_train))\n",
    "    np.save('pac_arrays/test_all', np.random.permutation(all_test))\n",
    "    np.save('pac_arrays/dev_all', np.random.permutation(all_dev))\n",
    "        \n",
    "print(all_cums)"
   ]
  },
  {
   "cell_type": "code",
   "execution_count": 73,
   "metadata": {},
   "outputs": [
    {
     "name": "stdout",
     "output_type": "stream",
     "text": [
      "25740\n",
      "8580\n",
      "8580\n",
      "[ 79251.  90733.  65278. ...,  13960.  60751.  33421.]\n",
      "79251\n",
      "90733\n",
      "65278\n",
      "3699\n",
      "32284\n",
      "[  25711.  107715.   47400.    7796.   61308.]\n",
      "[  41015.  103884.  102826.   28790.   33406.]\n"
     ]
    }
   ],
   "source": [
    "print(len(np.load('pac_arrays/train_all.npy')))\n",
    "print(len(np.load('pac_arrays/test_all.npy')))\n",
    "print(len(np.load('pac_arrays/dev_all.npy')))\n",
    "\n",
    "print(np.load('pac_arrays/train_all.npy'))\n",
    "for i in range(0, 5):\n",
    "    print(int(np.load('pac_arrays/train_all.npy')[i]))\n",
    "print(np.load('pac_arrays/test_all.npy')[0:5])\n",
    "print(np.load('pac_arrays/dev_all.npy')[0:5])"
   ]
  },
  {
   "cell_type": "code",
   "execution_count": 77,
   "metadata": {
    "scrolled": false
   },
   "outputs": [
    {
     "name": "stdout",
     "output_type": "stream",
     "text": [
      "112036\n",
      "['.DS_Store', '.floyddata', '02', '04', '06', '08', '10', '11', '15', '21', '22', '23', '24', '39', '52', '59', '62', '63', '72']\n",
      "['.DS_Store', '0', '1']\n"
     ]
    }
   ],
   "source": [
    "import os\n",
    "home_dir = os.listdir(\"/pac_data\")\n",
    "counter = 0\n",
    "with open('pac_guide.csv', 'w') as f:\n",
    "    counter = 0\n",
    "    for i, subname in enumerate(home_dir):\n",
    "        if subname.isdigit():\n",
    "            sub_dir = os.listdir(\"/pac_data/\" + subname)\n",
    "            if len(sub_dir) >= 2:  \n",
    "\n",
    "                for j, labname in enumerate(sub_dir):\n",
    "                    if labname.isdigit():\n",
    "                        label_dir = os.listdir(\"/pac_data/\" + subname + \"/\" + labname)\n",
    "                        for k in label_dir:\n",
    "                            year = k[0:4]\n",
    "                            month = k[4:6]\n",
    "                            day = k[6:8]\n",
    "                            hours = k[9:11]\n",
    "                            minutes = k[11:13]\n",
    "                            seconds = k[13:15]\n",
    "                            ms = k[16:19]\n",
    "                            #print(year, month, day, hours, minutes, seconds, ms)\n",
    "                            filedir = \"/pac_data/\" + subname + \"/\" + labname + \"/\" + k\n",
    "                            date = year + ',' + month + ',' + day + ',' + hours + ',' + minutes + ',' + seconds + ',' + ms\n",
    "                            towrite = str(counter) + ',' + subname + ',' + labname + ',' + filedir + ',' + date + '\\n'\n",
    "                            f.write(towrite)\n",
    "                            counter += 1\n",
    "\n",
    "                            #A = np.load(filedir)\n",
    "                            #depth_map = A[A.files[0]]\n",
    "                            #print(depth_map.shape, depth_map.dtype)\n",
    "                            #(240, 320) float16\n",
    "    f.close()\n",
    "    print(counter)\n",
    "            \n",
    "dir02 = os.listdir(\"/pac_data/02\")\n",
    "dir021 = os.listdir(\"/pac_data/02/1\")\n",
    "print(home_dir)\n",
    "print(dir02)\n",
    "#print(dir021)"
   ]
  },
  {
   "cell_type": "code",
   "execution_count": null,
   "metadata": {},
   "outputs": [],
   "source": [
    "import os\n",
    "home_dir = os.listdir(\"/pac_data\")\n",
    "counter = 0\n",
    "with open('pac_guide0.csv', 'w') as f:\n",
    "    counter = 0\n",
    "    for i, subname in enumerate(home_dir):\n",
    "        if subname.isdigit():\n",
    "            sub_dir = os.listdir(\"/pac_data/\" + subname)\n",
    "            for j, labname in enumerate(sub_dir):\n",
    "                if labname == '0':\n",
    "                    label_dir = os.listdir(\"/pac_data/\" + subname + \"/\" + labname)\n",
    "                    for k in label_dir:\n",
    "                        f.write(str(counter) + \",/pac_data/\" + subname + \"/\" + labname + \"/\" + k + \",\" + labname + \"\\n\")\n",
    "                        counter += 1\n",
    "    f.close()\n",
    "    print(counter)"
   ]
  },
  {
   "cell_type": "code",
   "execution_count": null,
   "metadata": {},
   "outputs": [],
   "source": [
    "import os\n",
    "home_dir = os.listdir(\"/pac_data\")\n",
    "counter = 0\n",
    "with open('pac_guide1.csv', 'w') as f:\n",
    "    counter = 0\n",
    "    for i, subname in enumerate(home_dir):\n",
    "        if subname.isdigit():\n",
    "            sub_dir = os.listdir(\"/pac_data/\" + subname)\n",
    "            for j, labname in enumerate(sub_dir):\n",
    "                if labname == '1':\n",
    "                    label_dir = os.listdir(\"/pac_data/\" + subname + \"/\" + labname)\n",
    "                    for k in label_dir:\n",
    "                        f.write(str(counter) + \",/pac_data/\" + subname + \"/\" + labname + \"/\" + k + \",\" + labname + \"\\n\")\n",
    "                        counter += 1\n",
    "    f.close()\n",
    "    print(counter)"
   ]
  },
  {
   "cell_type": "code",
   "execution_count": null,
   "metadata": {},
   "outputs": [],
   "source": [
    "#pac_guide: 113320\n",
    "#pac_guide0: 101326 \n",
    "#pac_guide1: 11994\n",
    "pac_guide_rand = np.random.choice(113320, 20, replace=False)\n",
    "pac_guide_rand0 = np.random.choice(101326 , 20, replace=False)\n",
    "pac_guide_rand1 = np.random.choice(11994 , 20, replace=False)\n",
    "\n",
    "print(pac_guide_rand0)\n",
    "print(pac_guide_rand1)"
   ]
  },
  {
   "cell_type": "code",
   "execution_count": null,
   "metadata": {},
   "outputs": [],
   "source": [
    "from IPython.display import Audio\n",
    "from IPython.display import display\n",
    "import time\n",
    "\n",
    "\n",
    "time.sleep(2)\n",
    "sound_file = 'http://www.pacdv.com/sounds/interface_sound_effects/sound82.wav'\n",
    "display(Audio(url=sound_file, autoplay=True))\n",
    "time.sleep(2)\n",
    "display(Audio(url=sound_file, autoplay=True))\n",
    "\n",
    "for i in range(0, 3):\n",
    "    time.sleep(2)\n",
    "    display(Audio(url=sound_file, autoplay=True))\n"
   ]
  },
  {
   "cell_type": "code",
   "execution_count": 1,
   "metadata": {},
   "outputs": [
    {
     "name": "stderr",
     "output_type": "stream",
     "text": [
      "Using TensorFlow backend.\n"
     ]
    }
   ],
   "source": [
    "from keras import applications\n",
    "from keras.callbacks import ModelCheckpoint\n",
    "from keras.preprocessing import image\n",
    "from keras.preprocessing.image import ImageDataGenerator\n",
    "from keras import optimizers\n",
    "from keras.models import Sequential, Model\n",
    "from keras.layers import Dropout, Flatten, Dense, Input\n",
    "from keras.initializers import glorot_uniform\n",
    "from keras.applications.vgg16 import preprocess_input"
   ]
  },
  {
   "cell_type": "code",
   "execution_count": 20,
   "metadata": {},
   "outputs": [
    {
     "name": "stdout",
     "output_type": "stream",
     "text": [
      "/pac_data/02/0/20160930_082811_796.npz\n",
      "/pac_data/02/0/20170123_202322_225.npz\n",
      "(224, 224, 3)\n"
     ]
    },
    {
     "name": "stderr",
     "output_type": "stream",
     "text": [
      "/Users/Edward_Chou/anaconda3/lib/python3.6/site-packages/skimage/transform/_warps.py:84: UserWarning: The default mode, 'constant', will be changed to 'reflect' in skimage 0.15.\n",
      "  warn(\"The default mode, 'constant', will be changed to 'reflect' in \"\n",
      "/Users/Edward_Chou/anaconda3/lib/python3.6/site-packages/skimage/transform/_warps.py:84: UserWarning: The default mode, 'constant', will be changed to 'reflect' in skimage 0.15.\n",
      "  warn(\"The default mode, 'constant', will be changed to 'reflect' in \"\n"
     ]
    },
    {
     "name": "stdout",
     "output_type": "stream",
     "text": [
      "(224, 224, 3)\n",
      "/pac_data/02/1/20160930_084735_699.npz\n",
      "/pac_data/02/1/20170123_231111_704.npz\n",
      "(224, 224, 3)\n"
     ]
    },
    {
     "name": "stderr",
     "output_type": "stream",
     "text": [
      "/Users/Edward_Chou/anaconda3/lib/python3.6/site-packages/skimage/transform/_warps.py:84: UserWarning: The default mode, 'constant', will be changed to 'reflect' in skimage 0.15.\n",
      "  warn(\"The default mode, 'constant', will be changed to 'reflect' in \"\n",
      "/Users/Edward_Chou/anaconda3/lib/python3.6/site-packages/skimage/transform/_warps.py:84: UserWarning: The default mode, 'constant', will be changed to 'reflect' in skimage 0.15.\n",
      "  warn(\"The default mode, 'constant', will be changed to 'reflect' in \"\n"
     ]
    },
    {
     "name": "stdout",
     "output_type": "stream",
     "text": [
      "(224, 224, 3)\n",
      "/pac_data/04/0/20160930_082810_537.npz\n",
      "/pac_data/04/0/20170122_162527_011.npz\n",
      "(224, 224, 3)\n"
     ]
    },
    {
     "name": "stderr",
     "output_type": "stream",
     "text": [
      "/Users/Edward_Chou/anaconda3/lib/python3.6/site-packages/skimage/transform/_warps.py:84: UserWarning: The default mode, 'constant', will be changed to 'reflect' in skimage 0.15.\n",
      "  warn(\"The default mode, 'constant', will be changed to 'reflect' in \"\n",
      "/Users/Edward_Chou/anaconda3/lib/python3.6/site-packages/skimage/transform/_warps.py:84: UserWarning: The default mode, 'constant', will be changed to 'reflect' in skimage 0.15.\n",
      "  warn(\"The default mode, 'constant', will be changed to 'reflect' in \"\n"
     ]
    },
    {
     "name": "stdout",
     "output_type": "stream",
     "text": [
      "(224, 224, 3)\n",
      "/pac_data/04/1/20160930_082850_821.npz\n",
      "/pac_data/04/1/20170122_162528_215.npz\n",
      "(224, 224, 3)\n"
     ]
    },
    {
     "name": "stderr",
     "output_type": "stream",
     "text": [
      "/Users/Edward_Chou/anaconda3/lib/python3.6/site-packages/skimage/transform/_warps.py:84: UserWarning: The default mode, 'constant', will be changed to 'reflect' in skimage 0.15.\n",
      "  warn(\"The default mode, 'constant', will be changed to 'reflect' in \"\n",
      "/Users/Edward_Chou/anaconda3/lib/python3.6/site-packages/skimage/transform/_warps.py:84: UserWarning: The default mode, 'constant', will be changed to 'reflect' in skimage 0.15.\n",
      "  warn(\"The default mode, 'constant', will be changed to 'reflect' in \"\n"
     ]
    },
    {
     "name": "stdout",
     "output_type": "stream",
     "text": [
      "(224, 224, 3)\n",
      "/pac_data/06/0/20160930_082846_788.npz\n",
      "/pac_data/06/0/20170122_162417_957.npz\n",
      "(224, 224, 3)\n"
     ]
    },
    {
     "name": "stderr",
     "output_type": "stream",
     "text": [
      "/Users/Edward_Chou/anaconda3/lib/python3.6/site-packages/skimage/transform/_warps.py:84: UserWarning: The default mode, 'constant', will be changed to 'reflect' in skimage 0.15.\n",
      "  warn(\"The default mode, 'constant', will be changed to 'reflect' in \"\n",
      "/Users/Edward_Chou/anaconda3/lib/python3.6/site-packages/skimage/transform/_warps.py:84: UserWarning: The default mode, 'constant', will be changed to 'reflect' in skimage 0.15.\n",
      "  warn(\"The default mode, 'constant', will be changed to 'reflect' in \"\n"
     ]
    },
    {
     "name": "stdout",
     "output_type": "stream",
     "text": [
      "(224, 224, 3)\n",
      "/pac_data/06/1/20161213_205550_141.npz\n",
      "/pac_data/06/1/20170122_162418_424.npz\n",
      "(224, 224, 3)\n"
     ]
    },
    {
     "name": "stderr",
     "output_type": "stream",
     "text": [
      "/Users/Edward_Chou/anaconda3/lib/python3.6/site-packages/skimage/transform/_warps.py:84: UserWarning: The default mode, 'constant', will be changed to 'reflect' in skimage 0.15.\n",
      "  warn(\"The default mode, 'constant', will be changed to 'reflect' in \"\n",
      "/Users/Edward_Chou/anaconda3/lib/python3.6/site-packages/skimage/transform/_warps.py:84: UserWarning: The default mode, 'constant', will be changed to 'reflect' in skimage 0.15.\n",
      "  warn(\"The default mode, 'constant', will be changed to 'reflect' in \"\n"
     ]
    },
    {
     "name": "stdout",
     "output_type": "stream",
     "text": [
      "(224, 224, 3)\n",
      "/pac_data/08/0/20160930_082842_099.npz\n",
      "/pac_data/08/0/20170122_151500_311.npz\n",
      "(224, 224, 3)\n"
     ]
    },
    {
     "name": "stderr",
     "output_type": "stream",
     "text": [
      "/Users/Edward_Chou/anaconda3/lib/python3.6/site-packages/skimage/transform/_warps.py:84: UserWarning: The default mode, 'constant', will be changed to 'reflect' in skimage 0.15.\n",
      "  warn(\"The default mode, 'constant', will be changed to 'reflect' in \"\n",
      "/Users/Edward_Chou/anaconda3/lib/python3.6/site-packages/skimage/transform/_warps.py:84: UserWarning: The default mode, 'constant', will be changed to 'reflect' in skimage 0.15.\n",
      "  warn(\"The default mode, 'constant', will be changed to 'reflect' in \"\n"
     ]
    },
    {
     "name": "stdout",
     "output_type": "stream",
     "text": [
      "(224, 224, 3)\n",
      "/pac_data/08/1/20160930_083820_697.npz\n",
      "/pac_data/08/1/20170122_161702_787.npz\n",
      "(224, 224, 3)\n"
     ]
    },
    {
     "name": "stderr",
     "output_type": "stream",
     "text": [
      "/Users/Edward_Chou/anaconda3/lib/python3.6/site-packages/skimage/transform/_warps.py:84: UserWarning: The default mode, 'constant', will be changed to 'reflect' in skimage 0.15.\n",
      "  warn(\"The default mode, 'constant', will be changed to 'reflect' in \"\n",
      "/Users/Edward_Chou/anaconda3/lib/python3.6/site-packages/skimage/transform/_warps.py:84: UserWarning: The default mode, 'constant', will be changed to 'reflect' in skimage 0.15.\n",
      "  warn(\"The default mode, 'constant', will be changed to 'reflect' in \"\n"
     ]
    },
    {
     "name": "stdout",
     "output_type": "stream",
     "text": [
      "(224, 224, 3)\n",
      "/pac_data/10/0/20160930_082810_094.npz\n",
      "/pac_data/10/0/20160930_082819_001.npz\n",
      "(224, 224, 3)\n"
     ]
    },
    {
     "name": "stderr",
     "output_type": "stream",
     "text": [
      "/Users/Edward_Chou/anaconda3/lib/python3.6/site-packages/skimage/transform/_warps.py:84: UserWarning: The default mode, 'constant', will be changed to 'reflect' in skimage 0.15.\n",
      "  warn(\"The default mode, 'constant', will be changed to 'reflect' in \"\n",
      "/Users/Edward_Chou/anaconda3/lib/python3.6/site-packages/skimage/transform/_warps.py:84: UserWarning: The default mode, 'constant', will be changed to 'reflect' in skimage 0.15.\n",
      "  warn(\"The default mode, 'constant', will be changed to 'reflect' in \"\n"
     ]
    },
    {
     "name": "stdout",
     "output_type": "stream",
     "text": [
      "(224, 224, 3)\n",
      "/pac_data/11/0/20160930_082805_770.npz\n",
      "/pac_data/11/0/20170123_224637_330.npz\n",
      "(224, 224, 3)\n"
     ]
    },
    {
     "name": "stderr",
     "output_type": "stream",
     "text": [
      "/Users/Edward_Chou/anaconda3/lib/python3.6/site-packages/skimage/transform/_warps.py:84: UserWarning: The default mode, 'constant', will be changed to 'reflect' in skimage 0.15.\n",
      "  warn(\"The default mode, 'constant', will be changed to 'reflect' in \"\n",
      "/Users/Edward_Chou/anaconda3/lib/python3.6/site-packages/skimage/transform/_warps.py:84: UserWarning: The default mode, 'constant', will be changed to 'reflect' in skimage 0.15.\n",
      "  warn(\"The default mode, 'constant', will be changed to 'reflect' in \"\n"
     ]
    },
    {
     "name": "stdout",
     "output_type": "stream",
     "text": [
      "(224, 224, 3)\n",
      "/pac_data/11/1/20160930_083655_766.npz\n",
      "/pac_data/11/1/20170123_193745_114.npz\n",
      "(224, 224, 3)\n"
     ]
    },
    {
     "name": "stderr",
     "output_type": "stream",
     "text": [
      "/Users/Edward_Chou/anaconda3/lib/python3.6/site-packages/skimage/transform/_warps.py:84: UserWarning: The default mode, 'constant', will be changed to 'reflect' in skimage 0.15.\n",
      "  warn(\"The default mode, 'constant', will be changed to 'reflect' in \"\n",
      "/Users/Edward_Chou/anaconda3/lib/python3.6/site-packages/skimage/transform/_warps.py:84: UserWarning: The default mode, 'constant', will be changed to 'reflect' in skimage 0.15.\n",
      "  warn(\"The default mode, 'constant', will be changed to 'reflect' in \"\n"
     ]
    },
    {
     "name": "stdout",
     "output_type": "stream",
     "text": [
      "(224, 224, 3)\n",
      "/pac_data/15/0/20160930_083148_746.npz\n",
      "/pac_data/15/0/20170123_224914_276.npz\n",
      "(224, 224, 3)\n"
     ]
    },
    {
     "name": "stderr",
     "output_type": "stream",
     "text": [
      "/Users/Edward_Chou/anaconda3/lib/python3.6/site-packages/skimage/transform/_warps.py:84: UserWarning: The default mode, 'constant', will be changed to 'reflect' in skimage 0.15.\n",
      "  warn(\"The default mode, 'constant', will be changed to 'reflect' in \"\n",
      "/Users/Edward_Chou/anaconda3/lib/python3.6/site-packages/skimage/transform/_warps.py:84: UserWarning: The default mode, 'constant', will be changed to 'reflect' in skimage 0.15.\n",
      "  warn(\"The default mode, 'constant', will be changed to 'reflect' in \"\n"
     ]
    },
    {
     "name": "stdout",
     "output_type": "stream",
     "text": [
      "(224, 224, 3)\n",
      "/pac_data/15/1/20170106_091401_139.npz\n",
      "/pac_data/15/1/20170123_082932_115.npz\n",
      "(224, 224, 3)\n"
     ]
    },
    {
     "name": "stderr",
     "output_type": "stream",
     "text": [
      "/Users/Edward_Chou/anaconda3/lib/python3.6/site-packages/skimage/transform/_warps.py:84: UserWarning: The default mode, 'constant', will be changed to 'reflect' in skimage 0.15.\n",
      "  warn(\"The default mode, 'constant', will be changed to 'reflect' in \"\n",
      "/Users/Edward_Chou/anaconda3/lib/python3.6/site-packages/skimage/transform/_warps.py:84: UserWarning: The default mode, 'constant', will be changed to 'reflect' in skimage 0.15.\n",
      "  warn(\"The default mode, 'constant', will be changed to 'reflect' in \"\n"
     ]
    },
    {
     "name": "stdout",
     "output_type": "stream",
     "text": [
      "(224, 224, 3)\n",
      "/pac_data/21/0/20160930_083411_331.npz\n",
      "/pac_data/21/0/20170118_124610_291.npz\n",
      "(224, 224, 3)\n"
     ]
    },
    {
     "name": "stderr",
     "output_type": "stream",
     "text": [
      "/Users/Edward_Chou/anaconda3/lib/python3.6/site-packages/skimage/transform/_warps.py:84: UserWarning: The default mode, 'constant', will be changed to 'reflect' in skimage 0.15.\n",
      "  warn(\"The default mode, 'constant', will be changed to 'reflect' in \"\n",
      "/Users/Edward_Chou/anaconda3/lib/python3.6/site-packages/skimage/transform/_warps.py:84: UserWarning: The default mode, 'constant', will be changed to 'reflect' in skimage 0.15.\n",
      "  warn(\"The default mode, 'constant', will be changed to 'reflect' in \"\n"
     ]
    },
    {
     "name": "stdout",
     "output_type": "stream",
     "text": [
      "(224, 224, 3)\n",
      "/pac_data/22/0/20160930_082805_126.npz\n",
      "/pac_data/22/0/20160930_082821_814.npz\n",
      "(224, 224, 3)\n"
     ]
    },
    {
     "name": "stderr",
     "output_type": "stream",
     "text": [
      "/Users/Edward_Chou/anaconda3/lib/python3.6/site-packages/skimage/transform/_warps.py:84: UserWarning: The default mode, 'constant', will be changed to 'reflect' in skimage 0.15.\n",
      "  warn(\"The default mode, 'constant', will be changed to 'reflect' in \"\n",
      "/Users/Edward_Chou/anaconda3/lib/python3.6/site-packages/skimage/transform/_warps.py:84: UserWarning: The default mode, 'constant', will be changed to 'reflect' in skimage 0.15.\n",
      "  warn(\"The default mode, 'constant', will be changed to 'reflect' in \"\n"
     ]
    },
    {
     "name": "stdout",
     "output_type": "stream",
     "text": [
      "(224, 224, 3)\n",
      "/pac_data/23/0/20170118_115513_488.npz\n",
      "/pac_data/23/0/20170123_223540_126.npz\n",
      "(224, 224, 3)\n"
     ]
    },
    {
     "name": "stderr",
     "output_type": "stream",
     "text": [
      "/Users/Edward_Chou/anaconda3/lib/python3.6/site-packages/skimage/transform/_warps.py:84: UserWarning: The default mode, 'constant', will be changed to 'reflect' in skimage 0.15.\n",
      "  warn(\"The default mode, 'constant', will be changed to 'reflect' in \"\n",
      "/Users/Edward_Chou/anaconda3/lib/python3.6/site-packages/skimage/transform/_warps.py:84: UserWarning: The default mode, 'constant', will be changed to 'reflect' in skimage 0.15.\n",
      "  warn(\"The default mode, 'constant', will be changed to 'reflect' in \"\n"
     ]
    },
    {
     "name": "stdout",
     "output_type": "stream",
     "text": [
      "(224, 224, 3)\n",
      "/pac_data/23/1/20170118_121917_173.npz\n",
      "/pac_data/23/1/20170123_231344_092.npz\n",
      "(224, 224, 3)\n"
     ]
    },
    {
     "name": "stderr",
     "output_type": "stream",
     "text": [
      "/Users/Edward_Chou/anaconda3/lib/python3.6/site-packages/skimage/transform/_warps.py:84: UserWarning: The default mode, 'constant', will be changed to 'reflect' in skimage 0.15.\n",
      "  warn(\"The default mode, 'constant', will be changed to 'reflect' in \"\n",
      "/Users/Edward_Chou/anaconda3/lib/python3.6/site-packages/skimage/transform/_warps.py:84: UserWarning: The default mode, 'constant', will be changed to 'reflect' in skimage 0.15.\n",
      "  warn(\"The default mode, 'constant', will be changed to 'reflect' in \"\n"
     ]
    },
    {
     "name": "stdout",
     "output_type": "stream",
     "text": [
      "(224, 224, 3)\n",
      "/pac_data/24/0/20160930_082805_989.npz\n",
      "/pac_data/24/0/20160930_082812_961.npz\n",
      "(224, 224, 3)\n"
     ]
    },
    {
     "name": "stderr",
     "output_type": "stream",
     "text": [
      "/Users/Edward_Chou/anaconda3/lib/python3.6/site-packages/skimage/transform/_warps.py:84: UserWarning: The default mode, 'constant', will be changed to 'reflect' in skimage 0.15.\n",
      "  warn(\"The default mode, 'constant', will be changed to 'reflect' in \"\n",
      "/Users/Edward_Chou/anaconda3/lib/python3.6/site-packages/skimage/transform/_warps.py:84: UserWarning: The default mode, 'constant', will be changed to 'reflect' in skimage 0.15.\n",
      "  warn(\"The default mode, 'constant', will be changed to 'reflect' in \"\n"
     ]
    },
    {
     "name": "stdout",
     "output_type": "stream",
     "text": [
      "(224, 224, 3)\n",
      "/pac_data/39/0/20161213_204419_283.npz\n",
      "/pac_data/39/0/20170123_145612_370.npz\n",
      "(224, 224, 3)\n"
     ]
    },
    {
     "name": "stderr",
     "output_type": "stream",
     "text": [
      "/Users/Edward_Chou/anaconda3/lib/python3.6/site-packages/skimage/transform/_warps.py:84: UserWarning: The default mode, 'constant', will be changed to 'reflect' in skimage 0.15.\n",
      "  warn(\"The default mode, 'constant', will be changed to 'reflect' in \"\n",
      "/Users/Edward_Chou/anaconda3/lib/python3.6/site-packages/skimage/transform/_warps.py:84: UserWarning: The default mode, 'constant', will be changed to 'reflect' in skimage 0.15.\n",
      "  warn(\"The default mode, 'constant', will be changed to 'reflect' in \"\n"
     ]
    },
    {
     "name": "stdout",
     "output_type": "stream",
     "text": [
      "(224, 224, 3)\n",
      "/pac_data/39/1/20161213_204603_256.npz\n",
      "/pac_data/39/1/20170118_124703_744.npz\n",
      "(224, 224, 3)\n"
     ]
    },
    {
     "name": "stderr",
     "output_type": "stream",
     "text": [
      "/Users/Edward_Chou/anaconda3/lib/python3.6/site-packages/skimage/transform/_warps.py:84: UserWarning: The default mode, 'constant', will be changed to 'reflect' in skimage 0.15.\n",
      "  warn(\"The default mode, 'constant', will be changed to 'reflect' in \"\n",
      "/Users/Edward_Chou/anaconda3/lib/python3.6/site-packages/skimage/transform/_warps.py:84: UserWarning: The default mode, 'constant', will be changed to 'reflect' in skimage 0.15.\n",
      "  warn(\"The default mode, 'constant', will be changed to 'reflect' in \"\n"
     ]
    },
    {
     "name": "stdout",
     "output_type": "stream",
     "text": [
      "(224, 224, 3)\n",
      "/pac_data/52/0/20160930_082923_512.npz\n",
      "/pac_data/52/0/20170122_162229_283.npz\n",
      "(224, 224, 3)\n"
     ]
    },
    {
     "name": "stderr",
     "output_type": "stream",
     "text": [
      "/Users/Edward_Chou/anaconda3/lib/python3.6/site-packages/skimage/transform/_warps.py:84: UserWarning: The default mode, 'constant', will be changed to 'reflect' in skimage 0.15.\n",
      "  warn(\"The default mode, 'constant', will be changed to 'reflect' in \"\n",
      "/Users/Edward_Chou/anaconda3/lib/python3.6/site-packages/skimage/transform/_warps.py:84: UserWarning: The default mode, 'constant', will be changed to 'reflect' in skimage 0.15.\n",
      "  warn(\"The default mode, 'constant', will be changed to 'reflect' in \"\n"
     ]
    },
    {
     "name": "stdout",
     "output_type": "stream",
     "text": [
      "(224, 224, 3)\n",
      "/pac_data/52/1/20160930_083720_368.npz\n",
      "/pac_data/52/1/20170122_162228_981.npz\n",
      "(224, 224, 3)\n"
     ]
    },
    {
     "name": "stderr",
     "output_type": "stream",
     "text": [
      "/Users/Edward_Chou/anaconda3/lib/python3.6/site-packages/skimage/transform/_warps.py:84: UserWarning: The default mode, 'constant', will be changed to 'reflect' in skimage 0.15.\n",
      "  warn(\"The default mode, 'constant', will be changed to 'reflect' in \"\n",
      "/Users/Edward_Chou/anaconda3/lib/python3.6/site-packages/skimage/transform/_warps.py:84: UserWarning: The default mode, 'constant', will be changed to 'reflect' in skimage 0.15.\n",
      "  warn(\"The default mode, 'constant', will be changed to 'reflect' in \"\n"
     ]
    },
    {
     "name": "stdout",
     "output_type": "stream",
     "text": [
      "(224, 224, 3)\n",
      "/pac_data/59/0/20160930_082805_699.npz\n",
      "/pac_data/59/0/20170123_223546_067.npz\n",
      "(224, 224, 3)\n"
     ]
    },
    {
     "name": "stderr",
     "output_type": "stream",
     "text": [
      "/Users/Edward_Chou/anaconda3/lib/python3.6/site-packages/skimage/transform/_warps.py:84: UserWarning: The default mode, 'constant', will be changed to 'reflect' in skimage 0.15.\n",
      "  warn(\"The default mode, 'constant', will be changed to 'reflect' in \"\n",
      "/Users/Edward_Chou/anaconda3/lib/python3.6/site-packages/skimage/transform/_warps.py:84: UserWarning: The default mode, 'constant', will be changed to 'reflect' in skimage 0.15.\n",
      "  warn(\"The default mode, 'constant', will be changed to 'reflect' in \"\n"
     ]
    },
    {
     "name": "stdout",
     "output_type": "stream",
     "text": [
      "(224, 224, 3)\n",
      "/pac_data/59/1/20160930_083510_901.npz\n",
      "/pac_data/59/1/20170123_220555_097.npz\n",
      "(224, 224, 3)\n"
     ]
    },
    {
     "name": "stderr",
     "output_type": "stream",
     "text": [
      "/Users/Edward_Chou/anaconda3/lib/python3.6/site-packages/skimage/transform/_warps.py:84: UserWarning: The default mode, 'constant', will be changed to 'reflect' in skimage 0.15.\n",
      "  warn(\"The default mode, 'constant', will be changed to 'reflect' in \"\n",
      "/Users/Edward_Chou/anaconda3/lib/python3.6/site-packages/skimage/transform/_warps.py:84: UserWarning: The default mode, 'constant', will be changed to 'reflect' in skimage 0.15.\n",
      "  warn(\"The default mode, 'constant', will be changed to 'reflect' in \"\n"
     ]
    },
    {
     "name": "stdout",
     "output_type": "stream",
     "text": [
      "(224, 224, 3)\n",
      "/pac_data/62/0/20160930_083105_378.npz\n",
      "/pac_data/62/0/20170123_234739_534.npz\n",
      "(224, 224, 3)\n"
     ]
    },
    {
     "name": "stderr",
     "output_type": "stream",
     "text": [
      "/Users/Edward_Chou/anaconda3/lib/python3.6/site-packages/skimage/transform/_warps.py:84: UserWarning: The default mode, 'constant', will be changed to 'reflect' in skimage 0.15.\n",
      "  warn(\"The default mode, 'constant', will be changed to 'reflect' in \"\n",
      "/Users/Edward_Chou/anaconda3/lib/python3.6/site-packages/skimage/transform/_warps.py:84: UserWarning: The default mode, 'constant', will be changed to 'reflect' in skimage 0.15.\n",
      "  warn(\"The default mode, 'constant', will be changed to 'reflect' in \"\n"
     ]
    },
    {
     "name": "stdout",
     "output_type": "stream",
     "text": [
      "(224, 224, 3)\n",
      "/pac_data/62/1/20160930_084333_110.npz\n",
      "/pac_data/62/1/20170123_233849_287.npz\n",
      "(224, 224, 3)\n"
     ]
    },
    {
     "name": "stderr",
     "output_type": "stream",
     "text": [
      "/Users/Edward_Chou/anaconda3/lib/python3.6/site-packages/skimage/transform/_warps.py:84: UserWarning: The default mode, 'constant', will be changed to 'reflect' in skimage 0.15.\n",
      "  warn(\"The default mode, 'constant', will be changed to 'reflect' in \"\n",
      "/Users/Edward_Chou/anaconda3/lib/python3.6/site-packages/skimage/transform/_warps.py:84: UserWarning: The default mode, 'constant', will be changed to 'reflect' in skimage 0.15.\n",
      "  warn(\"The default mode, 'constant', will be changed to 'reflect' in \"\n"
     ]
    },
    {
     "name": "stdout",
     "output_type": "stream",
     "text": [
      "(224, 224, 3)\n",
      "/pac_data/63/0/20160930_082943_476.npz\n",
      "/pac_data/63/0/20170122_162335_121.npz\n",
      "(224, 224, 3)\n"
     ]
    },
    {
     "name": "stderr",
     "output_type": "stream",
     "text": [
      "/Users/Edward_Chou/anaconda3/lib/python3.6/site-packages/skimage/transform/_warps.py:84: UserWarning: The default mode, 'constant', will be changed to 'reflect' in skimage 0.15.\n",
      "  warn(\"The default mode, 'constant', will be changed to 'reflect' in \"\n",
      "/Users/Edward_Chou/anaconda3/lib/python3.6/site-packages/skimage/transform/_warps.py:84: UserWarning: The default mode, 'constant', will be changed to 'reflect' in skimage 0.15.\n",
      "  warn(\"The default mode, 'constant', will be changed to 'reflect' in \"\n"
     ]
    },
    {
     "name": "stdout",
     "output_type": "stream",
     "text": [
      "(224, 224, 3)\n",
      "/pac_data/63/1/20170106_100202_438.npz\n",
      "/pac_data/63/1/20170122_162130_025.npz\n",
      "(224, 224, 3)\n"
     ]
    },
    {
     "name": "stderr",
     "output_type": "stream",
     "text": [
      "/Users/Edward_Chou/anaconda3/lib/python3.6/site-packages/skimage/transform/_warps.py:84: UserWarning: The default mode, 'constant', will be changed to 'reflect' in skimage 0.15.\n",
      "  warn(\"The default mode, 'constant', will be changed to 'reflect' in \"\n",
      "/Users/Edward_Chou/anaconda3/lib/python3.6/site-packages/skimage/transform/_warps.py:84: UserWarning: The default mode, 'constant', will be changed to 'reflect' in skimage 0.15.\n",
      "  warn(\"The default mode, 'constant', will be changed to 'reflect' in \"\n"
     ]
    },
    {
     "name": "stdout",
     "output_type": "stream",
     "text": [
      "(224, 224, 3)\n",
      "/pac_data/72/0/20160930_082820_604.npz\n",
      "/pac_data/72/0/20170123_042046_210.npz\n",
      "(224, 224, 3)\n"
     ]
    },
    {
     "name": "stderr",
     "output_type": "stream",
     "text": [
      "/Users/Edward_Chou/anaconda3/lib/python3.6/site-packages/skimage/transform/_warps.py:84: UserWarning: The default mode, 'constant', will be changed to 'reflect' in skimage 0.15.\n",
      "  warn(\"The default mode, 'constant', will be changed to 'reflect' in \"\n",
      "/Users/Edward_Chou/anaconda3/lib/python3.6/site-packages/skimage/transform/_warps.py:84: UserWarning: The default mode, 'constant', will be changed to 'reflect' in skimage 0.15.\n",
      "  warn(\"The default mode, 'constant', will be changed to 'reflect' in \"\n"
     ]
    },
    {
     "name": "stdout",
     "output_type": "stream",
     "text": [
      "(224, 224, 3)\n",
      "/pac_data/72/1/20160930_083857_711.npz\n",
      "/pac_data/72/1/20170123_040621_077.npz\n",
      "(224, 224, 3)\n"
     ]
    },
    {
     "name": "stderr",
     "output_type": "stream",
     "text": [
      "/Users/Edward_Chou/anaconda3/lib/python3.6/site-packages/skimage/transform/_warps.py:84: UserWarning: The default mode, 'constant', will be changed to 'reflect' in skimage 0.15.\n",
      "  warn(\"The default mode, 'constant', will be changed to 'reflect' in \"\n",
      "/Users/Edward_Chou/anaconda3/lib/python3.6/site-packages/skimage/transform/_warps.py:84: UserWarning: The default mode, 'constant', will be changed to 'reflect' in skimage 0.15.\n",
      "  warn(\"The default mode, 'constant', will be changed to 'reflect' in \"\n"
     ]
    },
    {
     "name": "stdout",
     "output_type": "stream",
     "text": [
      "(224, 224, 3)\n"
     ]
    }
   ],
   "source": [
    "import numpy as np\n",
    "import cv2\n",
    "from matplotlib import pyplot as plt\n",
    "from skimage import color\n",
    "from skimage.transform import resize\n",
    "\n",
    " \n",
    "def depth_map_to_image(depth_map):\n",
    "    img = cv2.normalize(depth_map, depth_map, 0, 1, cv2.NORM_MINMAX)\n",
    "    img = np.array(img * 255, dtype=np.uint8)\n",
    "    orig_img = img\n",
    "    img = cv2.cvtColor(img, cv2.COLOR_GRAY2RGB)\n",
    "    img = cv2.applyColorMap(img, cv2.COLORMAP_OCEAN)\n",
    "    #img = resize(img, 224, 224)\n",
    "\n",
    "    return orig_img, img\n",
    " \n",
    "def show_image(file_dir):\n",
    "    \n",
    "    data = np.load(file_dir)\n",
    "    #print(data['x'].shape)\n",
    "    depth_map = data['x'].astype(np.float32)\n",
    "    orig_img, ocean = depth_map_to_image(depth_map)\n",
    "    \n",
    "    ocean = resize(ocean, (224, 224))\n",
    "    print(ocean.shape)\n",
    "    #X = preprocess_input(ocean)\n",
    "    #print(X.shape)\n",
    "    plt.imshow(ocean)\n",
    "    #plt.show()\n",
    "    filename = 'pac_image_samples/' + file_dir.replace('/', '_')[10:-4]\n",
    "    plt.savefig(filename)\n",
    "    '''\n",
    "    plt.imshow(ocean, cmap=\"hot\")\n",
    "    plt.imshow(orig_img, cmap='gray')\n",
    "    plt.set_cmap('ocean')\n",
    "    plt.colorbar()\n",
    "    plt.show()\n",
    "    \n",
    "    cv2.imshow('Image', ocean)\n",
    "    print('main')\n",
    "    cv2.waitKey(0)\n",
    "    cv2.destroyAllWindows()\n",
    "    '''\n",
    "    \n",
    "home_dir = os.listdir(\"/pac_data\")\n",
    "for i, subname in enumerate(home_dir):\n",
    "    if subname.isdigit():\n",
    "        sub_dir = os.listdir(\"/pac_data/\" + subname)\n",
    "        for j, labname in enumerate(sub_dir):\n",
    "            if labname.isdigit():\n",
    "                label_dir = os.listdir(\"/pac_data/\" + subname + \"/\" + labname)\n",
    "                print(\"/pac_data/\" + subname + \"/\" + labname + \"/\" + label_dir[0])\n",
    "                print(\"/pac_data/\" + subname + \"/\" + labname + \"/\" + label_dir[-1])\n",
    "\n",
    "                show_image(\"/pac_data/\" + subname + \"/\" + labname + \"/\" + label_dir[0])\n",
    "                show_image(\"/pac_data/\" + subname + \"/\" + labname + \"/\" + label_dir[-1])\n",
    "\n",
    "                \n"
   ]
  },
  {
   "cell_type": "code",
   "execution_count": null,
   "metadata": {},
   "outputs": [],
   "source": []
  },
  {
   "cell_type": "code",
   "execution_count": null,
   "metadata": {},
   "outputs": [],
   "source": []
  }
 ],
 "metadata": {
  "kernelspec": {
   "display_name": "Python 3",
   "language": "python",
   "name": "python3"
  },
  "language_info": {
   "codemirror_mode": {
    "name": "ipython",
    "version": 3
   },
   "file_extension": ".py",
   "mimetype": "text/x-python",
   "name": "python",
   "nbconvert_exporter": "python",
   "pygments_lexer": "ipython3",
   "version": "3.6.3"
  }
 },
 "nbformat": 4,
 "nbformat_minor": 2
}
